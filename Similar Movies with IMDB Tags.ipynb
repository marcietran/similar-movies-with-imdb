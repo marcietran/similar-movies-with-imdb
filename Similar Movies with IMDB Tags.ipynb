{
 "cells": [
  {
   "cell_type": "markdown",
   "metadata": {},
   "source": [
    "# Notebook Summary\n",
    "\n",
    "A POC to see if we can use crowd-sourced IMDB tags to see if we can get similar movies, which could be used to create a content-based recommendation system"
   ]
  },
  {
   "cell_type": "code",
   "execution_count": 1,
   "metadata": {
    "ExecuteTime": {
     "end_time": "2019-05-03T01:19:22.726949Z",
     "start_time": "2019-05-03T01:19:21.750812Z"
    }
   },
   "outputs": [],
   "source": [
    "import os\n",
    "import pandas as pd\n",
    "import numpy as np\n",
    "from bs4 import BeautifulSoup as bs\n",
    "import requests"
   ]
  },
  {
   "cell_type": "code",
   "execution_count": 9,
   "metadata": {
    "ExecuteTime": {
     "end_time": "2019-05-03T01:34:44.276523Z",
     "start_time": "2019-05-03T01:34:44.271535Z"
    }
   },
   "outputs": [],
   "source": [
    "# IMDB does not have an API, so we have to scrape their webpages manually\n",
    "# I've selected a few major film studios to conduct this POC\n",
    "\n",
    "MOVIE_LIST_URLS = {\n",
    "    'Walt Disney Pictures': {\n",
    "        'url': 'https://www.imdb.com/search/title?companies=co0008970&sort=boxoffice_gross_us,desc'\n",
    "    },\n",
    "    '20th Century Fox': {\n",
    "        'url': 'https://www.imdb.com/search/title?companies=co0000756&sort=boxoffice_gross_us,desc'\n",
    "    },\n",
    "    'A24': {\n",
    "        'url': 'https://www.imdb.com/search/title?companies=co0390816&sort=boxoffice_gross_us,desc'\n",
    "    },\n",
    "    'Sony Pictures': {\n",
    "        'url': 'https://www.imdb.com/search/title?companies=co0026545&sort=boxoffice_gross_us,desc'\n",
    "    }\n",
    "}\n",
    "\n",
    "MINIMUM_REVENUE = 1000000 # The movie had to have made at least 1 million to be included"
   ]
  },
  {
   "cell_type": "code",
   "execution_count": 10,
   "metadata": {
    "ExecuteTime": {
     "end_time": "2019-05-03T01:35:17.137399Z",
     "start_time": "2019-05-03T01:34:48.937158Z"
    }
   },
   "outputs": [],
   "source": [
    "# Scrapes the urls above to get a list of movies and their imdb ids\n",
    "\n",
    "movies = []\n",
    "for key, val in MOVIE_LIST_URLS.items():\n",
    "    next = True\n",
    "    url = val['url']\n",
    "    while next:\n",
    "        result = requests.get(url)\n",
    "        soup = bs(result.content, 'lxml')\n",
    "        list_items = soup.find_all(\"div\", \"lister-item-content\")\n",
    "        for item in list_items:\n",
    "            gross_span = item.find(\"span\", text='Gross:')\n",
    "            if gross_span is None:\n",
    "                next = False\n",
    "            else:\n",
    "                revenue = int(gross_span.next_sibling.next_sibling['data-value'].replace(',', ''))\n",
    "                if revenue >= MINIMUM_REVENUE:\n",
    "                    header = item.find(\"h3\", \"lister-item-header\")\n",
    "                    movie_title = header.find(\"a\").contents[0]\n",
    "                    movie_year = header.find(\"span\", \"lister-item-year\").contents[0]\n",
    "                    movie_href = header.find(\"a\")['href']\n",
    "                    movie_id = movie_href.split(\"/\")[2]\n",
    "                    movies.append({\n",
    "                        'Title': movie_title + \" \" + movie_year,\n",
    "                        'id': movie_id\n",
    "                    })\n",
    "                else:\n",
    "                    next = False\n",
    "        # If there's a \"Next\" page, we scrape that page as well\n",
    "        if len(soup.find_all(\"a\", \"lister-page-next next-page\")) > 0:\n",
    "            url = 'https://www.imdb.com' + soup.find_all(\"a\", \"lister-page-next next-page\")[0]['href']\n",
    "        else:\n",
    "            next = False"
   ]
  },
  {
   "cell_type": "code",
   "execution_count": 11,
   "metadata": {
    "ExecuteTime": {
     "end_time": "2019-05-03T01:35:17.287753Z",
     "start_time": "2019-05-03T01:35:17.279774Z"
    }
   },
   "outputs": [
    {
     "data": {
      "text/plain": [
       "1406"
      ]
     },
     "execution_count": 11,
     "metadata": {},
     "output_type": "execute_result"
    }
   ],
   "source": [
    "# Lets remove any duplicates\n",
    "movies = [dict(t) for t in {tuple(movie.items()) for movie in movies}]\n",
    "len(movies)"
   ]
  },
  {
   "cell_type": "code",
   "execution_count": 12,
   "metadata": {
    "ExecuteTime": {
     "end_time": "2019-05-03T01:47:13.438643Z",
     "start_time": "2019-05-03T01:35:17.427379Z"
    },
    "scrolled": true
   },
   "outputs": [],
   "source": [
    "# Let's use the movie id value to get the url for the tags page and then scrape the tags\n",
    "for movie in movies:\n",
    "    tag_url = \"https://www.imdb.com/title/{}/keywords?ref_=tt_stry_kw\".format(movie['id'])\n",
    "    result = requests.get(tag_url)\n",
    "    soup = bs(result.content, 'lxml')\n",
    "    movie_tags = []\n",
    "    tag_tds = soup.find_all(\"td\", \"soda sodavote\")\n",
    "    for td in tag_tds:\n",
    "        movie_tags.append(td['data-item-keyword'])\n",
    "    movie['tags'] = movie_tags"
   ]
  },
  {
   "cell_type": "code",
   "execution_count": 80,
   "metadata": {
    "ExecuteTime": {
     "end_time": "2019-05-03T02:55:49.456286Z",
     "start_time": "2019-05-03T02:55:49.450302Z"
    }
   },
   "outputs": [
    {
     "data": {
      "text/plain": [
       "{'Title': 'Ramona and Beezus (2010)',\n",
       " 'id': 'tt0493949',\n",
       " 'tags': ['cat',\n",
       "  'death of pet',\n",
       "  'character names as title',\n",
       "  'aunt',\n",
       "  'girl',\n",
       "  'f rated',\n",
       "  'tween girl',\n",
       "  'no opening credits',\n",
       "  'child vomiting',\n",
       "  'sharing bedroom',\n",
       "  'daydreaming',\n",
       "  'childhood',\n",
       "  'happy ending',\n",
       "  'kiss on the lips',\n",
       "  'wedding reception',\n",
       "  'wedding',\n",
       "  \"marriage proposal on one's knees\",\n",
       "  'marriage proposal',\n",
       "  'gumball ring',\n",
       "  '2010s',\n",
       "  'throwing water on someone',\n",
       "  'sprayed with a hose',\n",
       "  'pan on fire',\n",
       "  'smoke alarm',\n",
       "  'hanging upside down',\n",
       "  \"car won't start\",\n",
       "  'female vomiting',\n",
       "  'tiara',\n",
       "  'acting audition',\n",
       "  \"spitting food into someone's face\",\n",
       "  'jeep',\n",
       "  'washing a car',\n",
       "  'nickname',\n",
       "  'spit take',\n",
       "  \"spitting a drink into someone's face\",\n",
       "  'lemonade stand',\n",
       "  'money problems',\n",
       "  'dead cat',\n",
       "  'dead pet',\n",
       "  'school photo',\n",
       "  'pet cat',\n",
       "  'ginger cat',\n",
       "  'talking to a cat',\n",
       "  'job search',\n",
       "  'redundancy',\n",
       "  'aunt niece relationship',\n",
       "  'locket with photograph',\n",
       "  'family home',\n",
       "  'report card',\n",
       "  'middle child',\n",
       "  \"sticking out one's tongue\",\n",
       "  'truth taken as a lie',\n",
       "  'best friends',\n",
       "  'elementary school',\n",
       "  'schoolgirl',\n",
       "  'classroom',\n",
       "  'pre teen',\n",
       "  'scene during end credits',\n",
       "  'breaking egg on head',\n",
       "  'jumping on a bed',\n",
       "  \"child's bedroom\",\n",
       "  'two sisters',\n",
       "  'younger sister',\n",
       "  'three word title',\n",
       "  'parachute',\n",
       "  \"child's imagination\",\n",
       "  'title directed by female',\n",
       "  'mural',\n",
       "  'girl scouts',\n",
       "  \"child's point of view\",\n",
       "  'dreaming',\n",
       "  'water fight',\n",
       "  'marriage',\n",
       "  'toddler',\n",
       "  'school',\n",
       "  'father daughter relationship',\n",
       "  'mother daughter relationship',\n",
       "  'pet cemetery',\n",
       "  'resentment toward sister',\n",
       "  'sister sister relationship',\n",
       "  'running away',\n",
       "  'nine year old',\n",
       "  'based on novel']}"
      ]
     },
     "execution_count": 80,
     "metadata": {},
     "output_type": "execute_result"
    }
   ],
   "source": [
    "# Example of IMDB crowdsourced tags\n",
    "movies[75]"
   ]
  },
  {
   "cell_type": "code",
   "execution_count": 14,
   "metadata": {
    "ExecuteTime": {
     "end_time": "2019-05-03T01:47:13.746590Z",
     "start_time": "2019-05-03T01:47:13.735620Z"
    }
   },
   "outputs": [],
   "source": [
    "# Let's get all of the tags in one list so we can count their occurrences\n",
    "all_tags = []\n",
    "for movie in movies:\n",
    "    all_tags.extend(movie['tags'])"
   ]
  },
  {
   "cell_type": "code",
   "execution_count": 15,
   "metadata": {
    "ExecuteTime": {
     "end_time": "2019-05-03T01:47:13.936083Z",
     "start_time": "2019-05-03T01:47:13.931096Z"
    }
   },
   "outputs": [
    {
     "data": {
      "text/plain": [
       "185929"
      ]
     },
     "execution_count": 15,
     "metadata": {},
     "output_type": "execute_result"
    }
   ],
   "source": [
    "len(all_tags)"
   ]
  },
  {
   "cell_type": "code",
   "execution_count": 61,
   "metadata": {
    "ExecuteTime": {
     "end_time": "2019-05-03T02:48:44.038006Z",
     "start_time": "2019-05-03T02:48:43.976170Z"
    }
   },
   "outputs": [],
   "source": [
    "# Let's reduce to tags that appear more than x times\n",
    "\n",
    "from collections import Counter\n",
    "MIN_TAG_COUNT = 5\n",
    "\n",
    "tag_count = Counter(all_tags)\n",
    "common_tags = {tag for tag, count in tag_count.items() if count >= MIN_TAG_COUNT}\n",
    "common_tags = sorted(list(common_tags))"
   ]
  },
  {
   "cell_type": "code",
   "execution_count": 62,
   "metadata": {
    "ExecuteTime": {
     "end_time": "2019-05-03T02:48:48.628458Z",
     "start_time": "2019-05-03T02:48:48.623441Z"
    }
   },
   "outputs": [
    {
     "data": {
      "text/plain": [
       "6797"
      ]
     },
     "execution_count": 62,
     "metadata": {},
     "output_type": "execute_result"
    }
   ],
   "source": [
    "# We'll use these as features in our dataset\n",
    "len(common_tags)"
   ]
  },
  {
   "cell_type": "code",
   "execution_count": 64,
   "metadata": {
    "ExecuteTime": {
     "end_time": "2019-05-03T02:49:31.990653Z",
     "start_time": "2019-05-03T02:49:31.950760Z"
    }
   },
   "outputs": [],
   "source": [
    "movie_titles = [str(movie['Title']) for movie in movies]\n",
    "movie_features = pd.DataFrame(0, index = movie_titles, columns=common_tags)"
   ]
  },
  {
   "cell_type": "code",
   "execution_count": 65,
   "metadata": {
    "ExecuteTime": {
     "end_time": "2019-05-03T02:54:06.839236Z",
     "start_time": "2019-05-03T02:49:34.077364Z"
    }
   },
   "outputs": [],
   "source": [
    "# Our movie features dataframe has each movie as a row, and a 1 in a column if it has that tag\n",
    "for movie in movies:\n",
    "    movie_tags = set(movie['tags']) & set(common_tags)\n",
    "    movie_features.loc[movie['Title'], movie_tags] = 1"
   ]
  },
  {
   "cell_type": "code",
   "execution_count": 66,
   "metadata": {
    "ExecuteTime": {
     "end_time": "2019-05-03T02:54:07.521385Z",
     "start_time": "2019-05-03T02:54:07.505424Z"
    },
    "scrolled": true
   },
   "outputs": [
    {
     "data": {
      "text/html": [
       "<div>\n",
       "<style scoped>\n",
       "    .dataframe tbody tr th:only-of-type {\n",
       "        vertical-align: middle;\n",
       "    }\n",
       "\n",
       "    .dataframe tbody tr th {\n",
       "        vertical-align: top;\n",
       "    }\n",
       "\n",
       "    .dataframe thead th {\n",
       "        text-align: right;\n",
       "    }\n",
       "</style>\n",
       "<table border=\"1\" class=\"dataframe\">\n",
       "  <thead>\n",
       "    <tr style=\"text-align: right;\">\n",
       "      <th></th>\n",
       "      <th>007</th>\n",
       "      <th>10 year old</th>\n",
       "      <th>11 year old</th>\n",
       "      <th>12 year old</th>\n",
       "      <th>13 year old</th>\n",
       "      <th>14 year old</th>\n",
       "      <th>15 year old</th>\n",
       "      <th>16 year old</th>\n",
       "      <th>1600s</th>\n",
       "      <th>16th century</th>\n",
       "      <th>...</th>\n",
       "      <th>young love</th>\n",
       "      <th>younger version of character</th>\n",
       "      <th>youtube</th>\n",
       "      <th>yuppie</th>\n",
       "      <th>zebra</th>\n",
       "      <th>zero gravity</th>\n",
       "      <th>zip line</th>\n",
       "      <th>zippo lighter</th>\n",
       "      <th>zombie</th>\n",
       "      <th>zoo</th>\n",
       "    </tr>\n",
       "  </thead>\n",
       "  <tbody>\n",
       "    <tr>\n",
       "      <th>Monsters University (2013)</th>\n",
       "      <td>0</td>\n",
       "      <td>0</td>\n",
       "      <td>0</td>\n",
       "      <td>0</td>\n",
       "      <td>0</td>\n",
       "      <td>0</td>\n",
       "      <td>0</td>\n",
       "      <td>0</td>\n",
       "      <td>0</td>\n",
       "      <td>0</td>\n",
       "      <td>...</td>\n",
       "      <td>0</td>\n",
       "      <td>0</td>\n",
       "      <td>0</td>\n",
       "      <td>0</td>\n",
       "      <td>0</td>\n",
       "      <td>0</td>\n",
       "      <td>0</td>\n",
       "      <td>0</td>\n",
       "      <td>0</td>\n",
       "      <td>0</td>\n",
       "    </tr>\n",
       "    <tr>\n",
       "      <th>Meet the Spartans (2008)</th>\n",
       "      <td>0</td>\n",
       "      <td>0</td>\n",
       "      <td>0</td>\n",
       "      <td>0</td>\n",
       "      <td>0</td>\n",
       "      <td>0</td>\n",
       "      <td>0</td>\n",
       "      <td>0</td>\n",
       "      <td>0</td>\n",
       "      <td>0</td>\n",
       "      <td>...</td>\n",
       "      <td>0</td>\n",
       "      <td>0</td>\n",
       "      <td>0</td>\n",
       "      <td>0</td>\n",
       "      <td>0</td>\n",
       "      <td>0</td>\n",
       "      <td>0</td>\n",
       "      <td>0</td>\n",
       "      <td>0</td>\n",
       "      <td>0</td>\n",
       "    </tr>\n",
       "    <tr>\n",
       "      <th>War for the Planet of the Apes (2017)</th>\n",
       "      <td>0</td>\n",
       "      <td>0</td>\n",
       "      <td>0</td>\n",
       "      <td>0</td>\n",
       "      <td>0</td>\n",
       "      <td>0</td>\n",
       "      <td>0</td>\n",
       "      <td>0</td>\n",
       "      <td>0</td>\n",
       "      <td>0</td>\n",
       "      <td>...</td>\n",
       "      <td>0</td>\n",
       "      <td>0</td>\n",
       "      <td>0</td>\n",
       "      <td>0</td>\n",
       "      <td>0</td>\n",
       "      <td>0</td>\n",
       "      <td>0</td>\n",
       "      <td>0</td>\n",
       "      <td>0</td>\n",
       "      <td>0</td>\n",
       "    </tr>\n",
       "    <tr>\n",
       "      <th>Enemy (2013)</th>\n",
       "      <td>0</td>\n",
       "      <td>0</td>\n",
       "      <td>0</td>\n",
       "      <td>0</td>\n",
       "      <td>0</td>\n",
       "      <td>0</td>\n",
       "      <td>0</td>\n",
       "      <td>0</td>\n",
       "      <td>0</td>\n",
       "      <td>0</td>\n",
       "      <td>...</td>\n",
       "      <td>0</td>\n",
       "      <td>0</td>\n",
       "      <td>0</td>\n",
       "      <td>0</td>\n",
       "      <td>0</td>\n",
       "      <td>0</td>\n",
       "      <td>0</td>\n",
       "      <td>0</td>\n",
       "      <td>0</td>\n",
       "      <td>0</td>\n",
       "    </tr>\n",
       "    <tr>\n",
       "      <th>The Day After Tomorrow (2004)</th>\n",
       "      <td>0</td>\n",
       "      <td>0</td>\n",
       "      <td>0</td>\n",
       "      <td>0</td>\n",
       "      <td>0</td>\n",
       "      <td>0</td>\n",
       "      <td>0</td>\n",
       "      <td>0</td>\n",
       "      <td>0</td>\n",
       "      <td>0</td>\n",
       "      <td>...</td>\n",
       "      <td>0</td>\n",
       "      <td>0</td>\n",
       "      <td>0</td>\n",
       "      <td>0</td>\n",
       "      <td>0</td>\n",
       "      <td>0</td>\n",
       "      <td>0</td>\n",
       "      <td>0</td>\n",
       "      <td>0</td>\n",
       "      <td>1</td>\n",
       "    </tr>\n",
       "  </tbody>\n",
       "</table>\n",
       "<p>5 rows × 6797 columns</p>\n",
       "</div>"
      ],
      "text/plain": [
       "                                       007  10 year old  11 year old  \\\n",
       "Monsters University (2013)               0            0            0   \n",
       "Meet the Spartans (2008)                 0            0            0   \n",
       "War for the Planet of the Apes (2017)    0            0            0   \n",
       "Enemy (2013)                             0            0            0   \n",
       "The Day After Tomorrow (2004)            0            0            0   \n",
       "\n",
       "                                       12 year old  13 year old  14 year old  \\\n",
       "Monsters University (2013)                       0            0            0   \n",
       "Meet the Spartans (2008)                         0            0            0   \n",
       "War for the Planet of the Apes (2017)            0            0            0   \n",
       "Enemy (2013)                                     0            0            0   \n",
       "The Day After Tomorrow (2004)                    0            0            0   \n",
       "\n",
       "                                       15 year old  16 year old  1600s  \\\n",
       "Monsters University (2013)                       0            0      0   \n",
       "Meet the Spartans (2008)                         0            0      0   \n",
       "War for the Planet of the Apes (2017)            0            0      0   \n",
       "Enemy (2013)                                     0            0      0   \n",
       "The Day After Tomorrow (2004)                    0            0      0   \n",
       "\n",
       "                                       16th century ...   young love  \\\n",
       "Monsters University (2013)                        0 ...            0   \n",
       "Meet the Spartans (2008)                          0 ...            0   \n",
       "War for the Planet of the Apes (2017)             0 ...            0   \n",
       "Enemy (2013)                                      0 ...            0   \n",
       "The Day After Tomorrow (2004)                     0 ...            0   \n",
       "\n",
       "                                       younger version of character  youtube  \\\n",
       "Monsters University (2013)                                        0        0   \n",
       "Meet the Spartans (2008)                                          0        0   \n",
       "War for the Planet of the Apes (2017)                             0        0   \n",
       "Enemy (2013)                                                      0        0   \n",
       "The Day After Tomorrow (2004)                                     0        0   \n",
       "\n",
       "                                       yuppie  zebra  zero gravity  zip line  \\\n",
       "Monsters University (2013)                  0      0             0         0   \n",
       "Meet the Spartans (2008)                    0      0             0         0   \n",
       "War for the Planet of the Apes (2017)       0      0             0         0   \n",
       "Enemy (2013)                                0      0             0         0   \n",
       "The Day After Tomorrow (2004)               0      0             0         0   \n",
       "\n",
       "                                       zippo lighter  zombie  zoo  \n",
       "Monsters University (2013)                         0       0    0  \n",
       "Meet the Spartans (2008)                           0       0    0  \n",
       "War for the Planet of the Apes (2017)              0       0    0  \n",
       "Enemy (2013)                                       0       0    0  \n",
       "The Day After Tomorrow (2004)                      0       0    1  \n",
       "\n",
       "[5 rows x 6797 columns]"
      ]
     },
     "execution_count": 66,
     "metadata": {},
     "output_type": "execute_result"
    }
   ],
   "source": [
    "movie_features.head()"
   ]
  },
  {
   "cell_type": "code",
   "execution_count": 67,
   "metadata": {
    "ExecuteTime": {
     "end_time": "2019-05-03T02:54:08.258442Z",
     "start_time": "2019-05-03T02:54:08.091855Z"
    }
   },
   "outputs": [],
   "source": [
    "# save this movie features dataframe\n",
    "movie_features.to_pickle('movie_features.pkl')"
   ]
  },
  {
   "cell_type": "markdown",
   "metadata": {},
   "source": [
    "If you just want to use the `movie_features` I've created instead of running the code above, you can just run the first cell and the following cells to load the pickle file"
   ]
  },
  {
   "cell_type": "code",
   "execution_count": null,
   "metadata": {
    "ExecuteTime": {
     "end_time": "2019-04-18T19:15:01.290727Z",
     "start_time": "2019-04-18T19:15:00.998672Z"
    }
   },
   "outputs": [],
   "source": [
    "# load the dataframe from a pickle file\n",
    "movie_features = pd.read_pickle('movie_features.pkl')"
   ]
  },
  {
   "cell_type": "code",
   "execution_count": 68,
   "metadata": {
    "ExecuteTime": {
     "end_time": "2019-05-03T02:54:31.927364Z",
     "start_time": "2019-05-03T02:54:31.920382Z"
    }
   },
   "outputs": [],
   "source": [
    "# Use cosine similarity to find similar movies\n",
    "\n",
    "from sklearn.neighbors import NearestNeighbors\n",
    "from sklearn.metrics.pairwise import cosine_similarity\n",
    "\n",
    "def get_cosine_similar_vectors(df, index, n):\n",
    "    \"\"\"\n",
    "    This finds the indices of the n most cosine similar vectors in X\n",
    "    to a given row in X\n",
    "    \"\"\"\n",
    "    sorted_indices = np.argsort(cosine_similarity(df.loc[[index]], df))[0][::-1] # reverses so the sorted indices are in descending order\n",
    "    top_n_similar = sorted_indices[1:n + 1] # removes itself and truncates it to the top n \n",
    "    return top_n_similar\n",
    "\n",
    "def get_similar_movies(movie, num_similar=3):\n",
    "    neighbors = get_cosine_similar_vectors(movie_features, movie, num_similar)\n",
    "    print(\"Similar to \" + movie + \":\")\n",
    "    print(\"\")\n",
    "    neighbor_titles = []\n",
    "    # Let's print out the common tags between the movie and its neighbor so we can see why\n",
    "    # it's considered similar\n",
    "    for neighbor in neighbors:\n",
    "        neighbor = movie_features.iloc[neighbor].name\n",
    "        neighbor_titles.append(neighbor)\n",
    "        movie_tags = set(movie_features.loc[movie][movie_features.loc[movie] == 1].index)\n",
    "        neighbor_tags = set(movie_features.loc[neighbor][movie_features.loc[neighbor] == 1].index)\n",
    "        shared_tags = movie_tags & neighbor_tags\n",
    "        print(\"{}: {}\".format(neighbor, \", \".join(shared_tags)))\n",
    "        print(\"\")\n",
    "    return neighbor_titles"
   ]
  },
  {
   "cell_type": "code",
   "execution_count": 69,
   "metadata": {
    "ExecuteTime": {
     "end_time": "2019-05-03T02:54:33.265707Z",
     "start_time": "2019-05-03T02:54:33.262715Z"
    }
   },
   "outputs": [],
   "source": [
    "# Examples of Results"
   ]
  },
  {
   "cell_type": "code",
   "execution_count": 70,
   "metadata": {
    "ExecuteTime": {
     "end_time": "2019-05-03T02:54:33.967828Z",
     "start_time": "2019-05-03T02:54:33.772352Z"
    }
   },
   "outputs": [
    {
     "name": "stdout",
     "output_type": "stream",
     "text": [
      "Similar to Black Panther (2018):\n",
      "\n",
      "Captain America: Civil War (2016): news report, scene during end credits, hostage, spy, undercover, fistfight, car crash, mission, fire, statue, masked superhero, severed arm, strong female character, airplane, redemption, marvel comics, car accident, laboratory, held at gunpoint, henchman, secret laboratory, gunfight, sequel, cameo, ak 47, opening action scene, weapons fire, handcuffs, surprise ending, battlefield, shootout, suspense, jumping from height, knocked out, tough guy, shot to death, slow motion scene, shot in the head, bombardment, pistol, one man army, surprise during end credits, female agent, bomb, female warrior, guilt, bar, armored car, surprise after end credits, snow, death of father, disarming someone, security guard, kicked in the face, haunted by the past, king, shared universe, apartment, moral dilemma, blockbuster, betrayal, waterfall, fighting, ambulance, robbery, fighting in the air, anger, mercenary, final battle, falling from height, murder, sabotage, gadget, united nations, returning character killed off, africa, showdown, interrogation, battle, flashback, knife, espionage, superhero team, tough girl, threatened with a knife, beating, violence, car rollover, ambush, friendship, combat, head butt, based on comic book, escape, shot in the chest, kidnapping, father son relationship, stan lee cameo, hatred, car chase, origin of hero, forest, invisibility, laser, action heroine, leader, no opening credits, marvel entertainment, armory, social commentary, machine gun, brutality, dark past, diplomat, leadership, van, punched in the face, body landing on a car, bucky barnes character, explosion, warrior, helicopter, mixed martial arts, action hero, disguise, security camera, face mask, shield, grenade launcher, soldier, gadgetry, final showdown, superhero, male objectification, prologue, loss of father, brawl, hand to hand combat, tracking device, cia agent, orphan, african, prince, no title at beginning, race against time, special forces, tragic villain, chase, marvel cinematic universe, bare chested male, death, british actor playing american character, kicked in the stomach, tragic past, electromagnetic pulse, rescue, punched in the chest, force field, bilingualism, hand grenade, costumed hero, politics, martial arts, 2010s, beaten to death, hologram, wisecrack humor, crash landing, exploding airplane, fear, honor, scientist, fight, regret, deception, bodyguard, jungle, revenge, stabbed in the chest, title at the end, fight to the death, surveillance, scene after end credits, explosive, subtitled scene, mountain, london england, anti villain, cia, female spy, stylized violence\n",
      "\n",
      "Thor: Ragnarok (2017): scene during end credits, sword, brother brother relationship, hostage, club, back from the dead, fistfight, mission, fire, statue, strong female character, handheld weapon, cousin, redemption, artifact, marvel comics, held at gunpoint, henchman, crown, gunfight, resurrection, sequel, cameo, spear, warrior race, dual wield, opening action scene, weapons fire, surprise ending, helmet, battlefield, shootout, science fantasy, jumping from height, knocked out, tough guy, elevator, shot to death, sword fight, slow motion scene, one man army, tied to a chair, world domination, surprise during end credits, female warrior, bar, dictator, surprise after end credits, death of father, disarming someone, haunted by the past, kicked in the face, king, shared universe, aerial battle, waterfall, blockbuster, betrayal, fighting, fighting in the air, brother, mercenary, final battle, falling from height, murder, returning character killed off, showdown, battle, flashback, knife, courage, supervillain, woods, army, knife fight, tough girl, threatened with a knife, beating, coup d'etat, hammer, beard, violence, ambush, combat, head butt, body suit, based on comic book, escape, junkyard, shot in the chest, kidnapping, father son relationship, stan lee cameo, heir, forest, brother sister relationship, bladed weapon, laser, palace, action heroine, no opening credits, marvel entertainment, armory, social commentary, machine gun, bearded man, danger, heroism, brutality, dark past, dogfight, title spoken by character, punched in the face, actor reprises previous role, explosion, cover up, warrior, mixed martial arts, action hero, vision, tattoo, face mask, shield, soldier, final showdown, superhero, male objectification, loss of father, brawl, village, kingdom, hand to hand combat, prince, character repeating someone else's dialogue, one against many, goatee, race against time, chase, marvel cinematic universe, bare chested male, mist, death, fictional war, kicked in the stomach, weapon, tragic past, rescue, punched in the chest, stabbed to death, sociopath, force field, champion, bridge, martial arts, 2010s, beaten to death, hologram, wisecrack humor, crash landing, fear, fight, deception, coronation, good versus evil, revenge, aerial shot, stabbed in the chest, fight to the death, basketball, scene after end credits, mercilessness, female soldier, fight the system, subtitled scene, mountain, bravery, throne, aircraft, stylized violence\n",
      "\n",
      "Captain America: The Winter Soldier (2014): scene during end credits, hostage, spy, back from the dead, undercover, fistfight, car crash, mission, fire, strong female character, prosthetic arm, airplane, marvel comics, old flame, car accident, held at gunpoint, gunfight, resurrection, cameo, sequel, dual wield, weapons fire, handcuffs, surprise ending, helmet, shootout, suspense, armored vehicle, jumping from height, knocked out, tough guy, museum, elevator, shot to death, shot in the head, slow motion scene, pistol, one man army, overturning car, surprise during end credits, conspiracy, female agent, world domination, female warrior, armored car, surprise after end credits, war veteran, security guard, kicked in the face, apartment, shared universe, tough woman, betrayal, fighting in the air, mercenary, final battle, falling from height, murder, silencer, gadget, returning character killed off, undercover agent, showdown, flashback, knife, espionage, knife fight, tough girl, beating, violence, friendship, combat, head butt, based on comic book, shot in the chest, kidnapping, stan lee cameo, car chase, action heroine, marvel entertainment, no opening credits, machine gun, heroism, punched in the face, body landing on a car, bucky barnes character, actor reprises previous role, explosion, cover up, warrior, helicopter, mixed martial arts, action hero, disguise, jumping from an airplane, security camera, face mask, gadgetry, grenade launcher, shield, soldier, final showdown, male objectification, superhero, secret agent, brawl, hand to hand combat, character repeating someone else's dialogue, one against many, no title at beginning, race against time, special forces, chase, tragic villain, marvel cinematic universe, bare chested male, death, council, innocent person killed, kicked in the stomach, plane crash, punched in the chest, rescue, hand grenade, costumed hero, politics, martial arts, shot in the back, 2010s, beaten to death, hologram, high tech, wisecrack humor, flipping car, super strength, honor, fight, deception, bodyguard, good versus evil, cannon, stabbed in the chest, scene after end credits, surveillance, costume, subtitled scene, rescue mission, female spy, stylized violence\n",
      "\n"
     ]
    },
    {
     "data": {
      "text/plain": [
       "['Captain America: Civil War (2016)',\n",
       " 'Thor: Ragnarok (2017)',\n",
       " 'Captain America: The Winter Soldier (2014)']"
      ]
     },
     "execution_count": 70,
     "metadata": {},
     "output_type": "execute_result"
    }
   ],
   "source": [
    "get_similar_movies('Black Panther (2018)', num_similar = 3)"
   ]
  },
  {
   "cell_type": "code",
   "execution_count": 71,
   "metadata": {
    "ExecuteTime": {
     "end_time": "2019-05-03T02:54:37.794876Z",
     "start_time": "2019-05-03T02:54:37.617344Z"
    }
   },
   "outputs": [
    {
     "name": "stdout",
     "output_type": "stream",
     "text": [
      "Similar to Finding Nemo (2003):\n",
      "\n",
      "Finding Dory (2016): friend, no opening credits, shark, starfish, crab, aquarium, ocean, two word title, teamwork, overprotective father, squid, underwater, seagull, talking animal, animal character name in title, computer animation, fish, father son relationship, character's point of view camera shot, whale, cgi animation\n",
      "\n",
      "Monster House (2006): friendship, scene during end credits, flashback, 3 dimensional, subjective camera, cgi animation, no opening credits, death of wife, explosion, computer animation\n",
      "\n",
      "Chicken Little (2005): friendship, friend, fish, fable, 3 dimensional, no opening credits, talking animal, father son relationship, single father, widower, cgi film, cgi animation, computer animation\n",
      "\n"
     ]
    },
    {
     "data": {
      "text/plain": [
       "['Finding Dory (2016)', 'Monster House (2006)', 'Chicken Little (2005)']"
      ]
     },
     "execution_count": 71,
     "metadata": {},
     "output_type": "execute_result"
    }
   ],
   "source": [
    "get_similar_movies('Finding Nemo (2003)')"
   ]
  },
  {
   "cell_type": "code",
   "execution_count": 72,
   "metadata": {
    "ExecuteTime": {
     "end_time": "2019-05-03T02:54:41.050647Z",
     "start_time": "2019-05-03T02:54:40.875074Z"
    }
   },
   "outputs": [
    {
     "name": "stdout",
     "output_type": "stream",
     "text": [
      "Similar to Coco (I) (2017):\n",
      "\n",
      "Rachel Getting Married (2008): thief, hammock, death, mother daughter relationship, family relationships, title spoken by character, police, policeman, bridge, dog, musician, microphone, guitar, singer, dancer, candle, photograph, theft, boy, contest, memory, father son relationship, father daughter relationship, singing\n",
      "\n",
      "Dumbo (2019): boy, one word title, father daughter relationship, photograph, title spoken by character, singer, father son relationship, disability, dog, framed photograph, disney, death, singing\n",
      "\n",
      "Ferdinand (2017): son, father daughter relationship, flower, stealing, moustached man, title spoken by character, canine, thief, guitar, mustache, father son relationship, framed photo, bridge, moustache, dog, man's best friend, cgi animation, theft, death, framed photograph\n",
      "\n"
     ]
    },
    {
     "data": {
      "text/plain": [
       "['Rachel Getting Married (2008)', 'Dumbo (2019)', 'Ferdinand (2017)']"
      ]
     },
     "execution_count": 72,
     "metadata": {},
     "output_type": "execute_result"
    }
   ],
   "source": [
    "get_similar_movies('Coco (I) (2017)')"
   ]
  },
  {
   "cell_type": "code",
   "execution_count": 73,
   "metadata": {
    "ExecuteTime": {
     "end_time": "2019-05-03T02:54:44.296345Z",
     "start_time": "2019-05-03T02:54:44.121814Z"
    }
   },
   "outputs": [
    {
     "name": "stdout",
     "output_type": "stream",
     "text": [
      "Similar to Hereditary (2018):\n",
      "\n",
      "Krampus (I) (2015): apology, nickname, husband wife relationship, knocking on a door, grandmother granddaughter relationship, running, fire, death, mother daughter relationship, reference to god, blood, anger, family relationships, sleeping, mother son relationship, dog, dysfunctional family, looking out a window, food, computer, cellphone, one word title, promise, fear, teenage boy, surprise ending, girl, f word, candle, boyfriend girlfriend relationship, grandmother grandson relationship, toy, demon, eating, supernatural power, attic, father son relationship, overhead camera shot, nightmare, telephone call, reference to jesus christ, locking a door, fireplace, father daughter relationship, brother sister relationship\n",
      "\n",
      "The VVitch: A New-England Folktale (2015): barking dog, husband wife relationship, crying woman, terror, grave, death, rain, mother daughter relationship, reference to god, death of mother, blood, family relationships, sleeping, burial, dog, mother son relationship, evil, murder, insanity, food, female nudity, lie, levitation, promise, knife, fear, kiss, woods, crying man, screaming, candle, violence, praying, male nudity, death of son, ghost, demon, satanism, eating, subjective camera, supernatural power, father son relationship, possession, reference to jesus christ, female frontal nudity, father daughter relationship, brother sister relationship, crying, guilt\n",
      "\n",
      "Gothika (2003): husband wife relationship, terror, running, suicide, hearing voices, hospital, fire, pills, death, mental illness, rain, reference to god, trust, blood, family relationships, mother son relationship, death of daughter, evil, car accident, murder, insanity, computer, female nudity, seizure, one word title, microphone, nervous breakdown, knife, fear, kiss, person on fire, surprise ending, screaming, photograph, violence, man on fire, ghost, f rated, satanism, subjective camera, supernatural power, father son relationship, possession, foot chase, telephone call, nightmare, female frontal nudity, father daughter relationship, crying, barefoot\n",
      "\n"
     ]
    },
    {
     "data": {
      "text/plain": [
       "['Krampus (I) (2015)',\n",
       " 'The VVitch: A New-England Folktale (2015)',\n",
       " 'Gothika (2003)']"
      ]
     },
     "execution_count": 73,
     "metadata": {},
     "output_type": "execute_result"
    }
   ],
   "source": [
    "get_similar_movies('Hereditary (2018)')"
   ]
  },
  {
   "cell_type": "code",
   "execution_count": 74,
   "metadata": {
    "ExecuteTime": {
     "end_time": "2019-05-03T02:54:48.256470Z",
     "start_time": "2019-05-03T02:54:48.076953Z"
    }
   },
   "outputs": [
    {
     "name": "stdout",
     "output_type": "stream",
     "text": [
      "Similar to Moonlight (I) (2016):\n",
      "\n",
      "Mid90s (2018): one word title, coming of age, mother son relationship, homophobia, dysfunctional family, gay slur\n",
      "\n",
      "Get on the Bus (1996): african american, absent father, diner, gay couple, gay african american, homophobia, gay slur, homosexual\n",
      "\n",
      "Go (1999): drug dealer, one word title, male objectification, title spoken by character, punched in the face, gay couple, joint, gay kiss, revenge, gay slur, homosexual\n",
      "\n"
     ]
    },
    {
     "data": {
      "text/plain": [
       "['Mid90s (2018)', 'Get on the Bus (1996)', 'Go (1999)']"
      ]
     },
     "execution_count": 74,
     "metadata": {},
     "output_type": "execute_result"
    }
   ],
   "source": [
    "get_similar_movies('Moonlight (I) (2016)')"
   ]
  },
  {
   "cell_type": "code",
   "execution_count": 75,
   "metadata": {
    "ExecuteTime": {
     "end_time": "2019-05-03T02:54:51.262264Z",
     "start_time": "2019-05-03T02:54:51.086735Z"
    },
    "scrolled": true
   },
   "outputs": [
    {
     "name": "stdout",
     "output_type": "stream",
     "text": [
      "Similar to Ex Machina (2014):\n",
      "\n",
      "Morgan (2016): independent film, character repeating someone else's dialogue, bed, chase, mirror, moral dilemma, betrayal, panic, bare chested male, danger, death, close up of eyes, paranoia, stabbed to death, blood, anger, artificial intelligence, bunker, punched in the face, directorial debut, murder, blood splatter, sabotage, laboratory, humanoid, river, computer, double cross, corporation, high tech, secret laboratory, distrust, corpse, flashback, knife, fear, woods, looking at oneself in a mirror, scientist, suspicion, surprise ending, interview, deception, f word, android, beard, security camera, isolation, revenge, science, stabbed in the chest, suspense, ambush, knocked out, surveillance, escape, stabbed in the back, electronic music score, research facility, shower, forest\n",
      "\n",
      "Alien: Covenant (2017): robot as pathos, female rear nudity, chase, waterfall, moral dilemma, betrayal, panic, bare chested male, danger, death, close up of eyes, paranoia, blood, anger, artificial intelligence, two word title, ceo, punched in the face, bare butt, murder, blood splatter, river, laboratory, humanoid, female nudity, double cross, robot, secret laboratory, distrust, topless female nudity, male rear nudity, corpse, flashback, knife, fear, woods, painting, looking at oneself in a mirror, scientist, suspicion, surprise ending, deception, f word, android, beard, security camera, bare breasts, male nudity, aerial shot, suspense, stabbed in the chest, shaving, surveillance, escape, stabbed in the back, slow motion scene, mountain, shower, forest\n",
      "\n",
      "Assassin's Creed (2016): character repeating someone else's dialogue, exploitation, no opening credits, chase, eavesdropping, visionary, betrayal, panic, bare chested male, danger, death, manipulation, tragic past, paranoia, stabbed to death, blood, anger, ceo, punched in the face, murder, 2010s, corporation, laboratory, computer, high tech, helicopter, corpse, flashback, knife, fear, painting, woman kills a man, scientist, drawing, surprise ending, deception, security camera, revenge, self mutilation, aerial shot, suspense, ambush, stabbed in the chest, knocked out, surveillance, escape, stabbed in the back, slow motion scene, memory, research facility, double cross\n",
      "\n"
     ]
    },
    {
     "data": {
      "text/plain": [
       "['Morgan (2016)', 'Alien: Covenant (2017)', \"Assassin's Creed (2016)\"]"
      ]
     },
     "execution_count": 75,
     "metadata": {},
     "output_type": "execute_result"
    }
   ],
   "source": [
    "get_similar_movies('Ex Machina (2014)')"
   ]
  },
  {
   "cell_type": "code",
   "execution_count": 76,
   "metadata": {
    "ExecuteTime": {
     "end_time": "2019-05-03T02:54:54.801636Z",
     "start_time": "2019-05-03T02:54:54.625110Z"
    }
   },
   "outputs": [
    {
     "name": "stdout",
     "output_type": "stream",
     "text": [
      "Similar to Spider-Man: Into the Spider-Verse (2018):\n",
      "\n",
      "Big Hero 6 (2014): cemetery, final showdown, superhero, self sacrifice, funeral, teenage superhero, based on comic book, no title at beginning, brother brother relationship, supervillain, scene after end credits, father son relationship, masked man, stan lee cameo, secret identity, marvel comics, based on comic, good versus evil, cgi animation, teenager\n",
      "\n",
      "The Kid Who Would Be King (2019): good versus evil, final showdown, final battle\n",
      "\n",
      "Spider-Man 2 (2004): cemetery, split screen, mad scientist, final showdown, peter parker character, superhero, based on comic book, rooftop, father son relationship, masked man, grave, secret identity, marvel comics, stan lee cameo, based on comic, may parker character, spider man character, good versus evil\n",
      "\n"
     ]
    },
    {
     "data": {
      "text/plain": [
       "['Big Hero 6 (2014)',\n",
       " 'The Kid Who Would Be King (2019)',\n",
       " 'Spider-Man 2 (2004)']"
      ]
     },
     "execution_count": 76,
     "metadata": {},
     "output_type": "execute_result"
    }
   ],
   "source": [
    "get_similar_movies('Spider-Man: Into the Spider-Verse (2018)')"
   ]
  },
  {
   "cell_type": "code",
   "execution_count": 77,
   "metadata": {
    "ExecuteTime": {
     "end_time": "2019-05-03T02:54:59.248980Z",
     "start_time": "2019-05-03T02:54:59.071456Z"
    }
   },
   "outputs": [
    {
     "name": "stdout",
     "output_type": "stream",
     "text": [
      "Similar to The Martian (2015):\n",
      "\n",
      "SpaceCamp (1986): spacecraft, space exploration, trapped in space, space travel, outer space, nasa, astronaut, spaceship, space shuttle, spacesuit, commander\n",
      "\n",
      "Independence Day: Resurgence (2016): news report, videoconferencing, press conference, china, race against time, no opening credits, earth viewed from space, humor, fire, mission, map, near death experience, evacuation, rescue, survival, satellite, family relationships, desert, laboratory, computer, explosion, high tech, chinese, space travel, pilot, scientist, spacesuit, presumed dead, surprise ending, helmet, watching tv, disobeying orders, photograph, boyfriend girlfriend relationship, aerial shot, friendship, spacecraft, flashlight, surveillance, escape, outer space, spaceship, subtitled scene, london england, bomb, crater, hope\n",
      "\n",
      "Alien: Covenant (2017): impalement, race against time, video recording, moral dilemma, lightning, fire, mission, near death experience, evacuation, laptop, rescue, survival, two word title, bare butt, camera, laboratory, babe scientist, explosion, space exploration, trapped in space, space travel, pilot, scientist, spacesuit, presumed dead, engineer, surprise ending, helmet, f word, disobeying orders, photograph, aerial shot, spacecraft, flashlight, shaving, surveillance, escape, outer space, spaceship, explosive decompression\n",
      "\n"
     ]
    },
    {
     "data": {
      "text/plain": [
       "['SpaceCamp (1986)',\n",
       " 'Independence Day: Resurgence (2016)',\n",
       " 'Alien: Covenant (2017)']"
      ]
     },
     "execution_count": 77,
     "metadata": {},
     "output_type": "execute_result"
    }
   ],
   "source": [
    "get_similar_movies('The Martian (2015)')"
   ]
  },
  {
   "cell_type": "code",
   "execution_count": 78,
   "metadata": {
    "ExecuteTime": {
     "end_time": "2019-05-03T02:55:02.413660Z",
     "start_time": "2019-05-03T02:55:02.247097Z"
    }
   },
   "outputs": [
    {
     "name": "stdout",
     "output_type": "stream",
     "text": [
      "Similar to Mr. & Mrs. Smith (2005):\n",
      "\n",
      "Once Upon a Time in Mexico (2003): bar, sunglasses, husband wife relationship, hostage, motorcycle, disarming someone, knife throwing, nightclub, assassination attempt, machine gun, fistfight, fbi, black comedy, death, doll, gun, pump action shotgun, shotgun, standoff, convoy, drunkenness, blood, shooting, assassin, eyeglasses, bicycle, drink, hit by a car, shot in the back, dog, martial arts, falling from height, car accident, murder, tied up, mass murder, explosion, wedding, silencer, marriage, cia, bazooka, rifle, party, ak 47, knife, kiss, cafe, taxi, dual wield, target practice, singer, cult film, handcuffs, underwear, surprise ending, fight, watching tv, candle, shot in the arm, shootout, dancer, waitress, money, boy, tough guy, dancing, escape, elevator, pistol, gambling, telephone call, car chase, father daughter relationship, drinking, bomb, hand to hand combat, singing\n",
      "\n",
      "Spy (2015): bar, hostage, woman murders a man, spy, motorcycle, tourist, knife throwing, chase, nightclub, construction site, assassination attempt, surveillance camera, butcher knife, fistfight, machine gun, black comedy, death, rescue, assassin, blood, airplane, punched in the face, cell phone, champagne, martial arts, shot in the back, falling from height, car accident, murder, tied up, cia, explosion, helicopter, mixed martial arts, party, knife, meat cleaver, taxi, dual wield, tough girl, time bomb, arms dealer, handcuffs, fight, surprise ending, photograph, shot in the arm, shootout, assault rifle, hotel, female assassin, ambush, friendship, kitchen, tough guy, jewish, head butt, male objectification, escape, shot in the chest, pistol, gambling, telephone call, car chase, subtitled scene, restaurant, bomb, hand to hand combat\n",
      "\n",
      "Knight and Day (2010): bar, sunglasses, exploding car, hostage, desert eagle, spy, motorcycle, disarming someone, knife throwing, kicked in the face, chase, garage, machine gun, fistfight, fbi, death, shotgun, rescue, exploding building, assassin, blood, airplane, grenade, punched in the face, hit by a car, baseball cap, martial arts, falling from height, car accident, murder, wedding, computer, mailbox, gym, silencer, explosion, missile, helicopter, new york city, knife, kiss, fight, arms dealer, handcuffs, surprise ending, photograph, shootout, hotel, ambush, kitchen, tough guy, brooklyn new york city, head butt, escape, shot in the chest, secret agent, pistol, singing in a car, uzi, car chase, semiautomatic pistol, restaurant, hand to hand combat\n",
      "\n"
     ]
    },
    {
     "data": {
      "text/plain": [
       "['Once Upon a Time in Mexico (2003)', 'Spy (2015)', 'Knight and Day (2010)']"
      ]
     },
     "execution_count": 78,
     "metadata": {},
     "output_type": "execute_result"
    }
   ],
   "source": [
    "get_similar_movies('Mr. & Mrs. Smith (2005)')"
   ]
  },
  {
   "cell_type": "code",
   "execution_count": 79,
   "metadata": {
    "ExecuteTime": {
     "end_time": "2019-05-03T02:55:05.943758Z",
     "start_time": "2019-05-03T02:55:05.766233Z"
    }
   },
   "outputs": [
    {
     "name": "stdout",
     "output_type": "stream",
     "text": [
      "Similar to The Florida Project (2017):\n",
      "\n",
      "Rachel Getting Married (2008): friend, bathtub, grandmother granddaughter relationship, running, fire, mother daughter relationship, police, policeman, food, vomiting, tattoo, best friend, fight, girl fight, dancer, theft, cigarette smoking, friendship, female protagonist, bath, eating, father son relationship, cigarette lighter, crying\n",
      "\n",
      "One Hour Photo (2002): voyeurism, birthday, security guard, running, little boy, police, female nudity, nudity, tattoo, fight, waitress, hotel, arrest, theft, cigarette smoking, toy, voyeur, father son relationship, restaurant, crying, child\n",
      "\n",
      "Hear No Evil (1993): nudity, topless female nudity, female protagonist, female nudity, bare breasts\n",
      "\n"
     ]
    },
    {
     "data": {
      "text/plain": [
       "['Rachel Getting Married (2008)',\n",
       " 'One Hour Photo (2002)',\n",
       " 'Hear No Evil (1993)']"
      ]
     },
     "execution_count": 79,
     "metadata": {},
     "output_type": "execute_result"
    }
   ],
   "source": [
    "get_similar_movies('The Florida Project (2017)')"
   ]
  },
  {
   "cell_type": "code",
   "execution_count": null,
   "metadata": {},
   "outputs": [],
   "source": []
  }
 ],
 "metadata": {
  "kernelspec": {
   "display_name": "Python 3",
   "language": "python",
   "name": "python3"
  },
  "language_info": {
   "codemirror_mode": {
    "name": "ipython",
    "version": 3
   },
   "file_extension": ".py",
   "mimetype": "text/x-python",
   "name": "python",
   "nbconvert_exporter": "python",
   "pygments_lexer": "ipython3",
   "version": "3.6.5"
  },
  "toc": {
   "base_numbering": 1,
   "nav_menu": {},
   "number_sections": true,
   "sideBar": true,
   "skip_h1_title": false,
   "title_cell": "Table of Contents",
   "title_sidebar": "Contents",
   "toc_cell": false,
   "toc_position": {},
   "toc_section_display": true,
   "toc_window_display": false
  },
  "varInspector": {
   "cols": {
    "lenName": 16,
    "lenType": 16,
    "lenVar": 40
   },
   "kernels_config": {
    "python": {
     "delete_cmd_postfix": "",
     "delete_cmd_prefix": "del ",
     "library": "var_list.py",
     "varRefreshCmd": "print(var_dic_list())"
    },
    "r": {
     "delete_cmd_postfix": ") ",
     "delete_cmd_prefix": "rm(",
     "library": "var_list.r",
     "varRefreshCmd": "cat(var_dic_list()) "
    }
   },
   "types_to_exclude": [
    "module",
    "function",
    "builtin_function_or_method",
    "instance",
    "_Feature"
   ],
   "window_display": false
  }
 },
 "nbformat": 4,
 "nbformat_minor": 2
}
